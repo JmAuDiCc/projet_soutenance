{
 "cells": [
  {
   "cell_type": "code",
   "execution_count": 2,
   "metadata": {},
   "outputs": [],
   "source": [
    "from urllib.request import Request, urlopen\n",
    "from bs4 import BeautifulSoup as soup\n",
    "import re\n",
    "import pandas as pd\n",
    "import numpy as np\n",
    "\n",
    "from datetime import datetime,date,timedelta  \n",
    "\n",
    "import time"
   ]
  },
  {
   "cell_type": "code",
   "execution_count": 9,
   "metadata": {
    "collapsed": true,
    "jupyter": {
     "outputs_hidden": true
    }
   },
   "outputs": [
    {
     "name": "stdout",
     "output_type": "stream",
     "text": [
      "2020-12-31  Temps Exec°:  0.3324713706970215\n",
      "2021-01-01  Temps Exec°:  0.5814497470855713\n",
      "2021-01-02  Temps Exec°:  1.9056975841522217\n",
      "2021-01-03  Temps Exec°:  2.9579145908355713\n",
      "2021-01-04  Temps Exec°:  4.776735544204712\n",
      "2021-01-05  Temps Exec°:  6.014249801635742\n",
      "2021-01-06  Temps Exec°:  7.718330144882202\n",
      "2021-01-07  Temps Exec°:  9.001853227615356\n",
      "2021-01-08  Temps Exec°:  12.747398138046265\n",
      "2021-01-09  Temps Exec°:  14.925801277160645\n",
      "2021-01-10  Temps Exec°:  15.882171392440796\n",
      "2021-01-11  Temps Exec°:  16.667694568634033\n",
      "2021-01-12  Temps Exec°:  19.987578868865967\n",
      "2021-01-13  Temps Exec°:  21.630116939544678\n",
      "2021-01-14  Temps Exec°:  23.77926802635193\n",
      "2021-01-15  Temps Exec°:  26.736849546432495\n",
      "2021-01-16  Temps Exec°:  28.42127299308777\n",
      "2021-01-17  Temps Exec°:  29.54159927368164\n",
      "2021-01-18  Temps Exec°:  32.878761529922485\n",
      "2021-01-19  Temps Exec°:  34.637513160705566\n",
      "2021-01-20  Temps Exec°:  35.85654067993164\n",
      "2021-01-21  Temps Exec°:  37.46682691574097\n",
      "2021-01-22  Temps Exec°:  38.387038230895996\n",
      "2021-01-23  Temps Exec°:  39.57354140281677\n",
      "2021-01-24  Temps Exec°:  40.862297773361206\n",
      "2021-01-25  Temps Exec°:  42.468989849090576\n",
      "2021-01-26  Temps Exec°:  43.35751128196716\n",
      "2021-01-27  Temps Exec°:  46.380558013916016\n",
      "2021-01-28  Temps Exec°:  48.708935499191284\n",
      "2021-01-29  Temps Exec°:  49.84744048118591\n",
      "2021-01-30  Temps Exec°:  51.38389563560486\n",
      "2021-01-31  Temps Exec°:  53.68399262428284\n"
     ]
    }
   ],
   "source": [
    "start_time = time.time()\n",
    "\n",
    "day_stop = pd.to_datetime('01-02-2021' , format=\"%d-%m-%Y\").date()\n",
    "day = pd.to_datetime('31-12-2020' , format=\"%d-%m-%Y\").date()\n",
    "\n",
    "\n",
    "headers = {'User-Agent': 'Mozilla/5.0 (Macintosh; Intel Mac OS X 10_9_3) AppleWebKit/537.36 (KHTML, like Gecko) Chrome/35.0.1916.47 Safari/537.36'}\n",
    "numero_page = 1\n",
    "liste_titre = []\n",
    "liste_date = []\n",
    "\n",
    "while day!= day_stop:\n",
    "    try:\n",
    "        #e = False #condition sortie ==> possiblement non nécessaire ici sur Closer\n",
    "        day_str = day.strftime('%Y/%m/%d')\n",
    "        url = \"https://www.closermag.fr/archives/\"+day_str\n",
    "\n",
    "\n",
    "\n",
    "        req = Request(url , headers=headers)\n",
    "        page = soup( urlopen(req).read() , \"lxml\")\n",
    "\n",
    "        #liste_balise = page.find('section').findAll('h3',{ 'class':\"teaser__title\"})\n",
    "\n",
    "        for titre in page.findAll('div',{ 'class':\"inner\"}):\n",
    "            liste_titre.append(titre.find('h2',{ 'class':\"title\"}).getText().encode('utf-8').decode('utf-8').replace(u'\\xa0', u' '))\n",
    "            liste_date.append(day)\n",
    "\n",
    "\n",
    "        print(day,\" Temps Exec°: \" ,(time.time() - start_time))\n",
    "        day = day + timedelta(days=1)\n",
    "\n",
    "    \n",
    "    except Exception:\n",
    "        day = day + timedelta(days=1)"
   ]
  },
  {
   "cell_type": "code",
   "execution_count": 27,
   "metadata": {},
   "outputs": [
    {
     "data": {
      "text/plain": [
       "'\"L\\'espoir vit\" : les voeux d\\'Emmanuel Macron pour la nouvelle année'"
      ]
     },
     "execution_count": 27,
     "metadata": {},
     "output_type": "execute_result"
    }
   ],
   "source": [
    "liste_titre[12]"
   ]
  },
  {
   "cell_type": "code",
   "execution_count": 4,
   "metadata": {},
   "outputs": [
    {
     "data": {
      "text/plain": [
       "datetime.date(2016, 1, 1)"
      ]
     },
     "execution_count": 4,
     "metadata": {},
     "output_type": "execute_result"
    }
   ],
   "source": [
    "day"
   ]
  },
  {
   "cell_type": "code",
   "execution_count": 11,
   "metadata": {},
   "outputs": [],
   "source": [
    "df_closer = pd.DataFrame()\n",
    "#liste_titre = []\n",
    "#liste_titre.append(pd.to_datetime(day , format=\"%d-%m-%Y\").date())\n",
    "df_closer['titre'] = liste_titre\n",
    "df_closer['date'] = liste_date\n",
    "df_closer.to_csv(index=False ,path_or_buf='data_scrapping_csv/closer_test.csv', encoding = 'utf-8')"
   ]
  },
  {
   "cell_type": "code",
   "execution_count": null,
   "metadata": {},
   "outputs": [],
   "source": []
  },
  {
   "cell_type": "code",
   "execution_count": null,
   "metadata": {},
   "outputs": [],
   "source": []
  }
 ],
 "metadata": {
  "kernelspec": {
   "display_name": "Python 3",
   "language": "python",
   "name": "python3"
  },
  "language_info": {
   "codemirror_mode": {
    "name": "ipython",
    "version": 3
   },
   "file_extension": ".py",
   "mimetype": "text/x-python",
   "name": "python",
   "nbconvert_exporter": "python",
   "pygments_lexer": "ipython3",
   "version": "3.7.4"
  }
 },
 "nbformat": 4,
 "nbformat_minor": 4
}
