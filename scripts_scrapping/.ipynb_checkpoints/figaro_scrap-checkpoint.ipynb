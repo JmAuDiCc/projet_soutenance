{
 "cells": [
  {
   "cell_type": "code",
   "execution_count": 1,
   "metadata": {},
   "outputs": [],
   "source": [
    "from urllib.request import Request, urlopen\n",
    "from bs4 import BeautifulSoup as soup\n",
    "import re\n",
    "import pandas as pd\n",
    "import numpy as np\n",
    "\n",
    "from datetime import datetime,date,timedelta  \n",
    "\n",
    "import time"
   ]
  },
  {
   "cell_type": "code",
   "execution_count": 2,
   "metadata": {},
   "outputs": [],
   "source": [
    "start_time = time.time()\n",
    "\n",
    "day_stop = pd.to_datetime('01-01-2021' , format=\"%d-%m-%Y\").date()\n",
    "day = pd.to_datetime('28-12-2020' , format=\"%d-%m-%Y\").date()\n",
    "\n",
    "\n",
    "headers = {'User-Agent': 'Mozilla/5.0 (Macintosh; Intel Mac OS X 10_9_3) AppleWebKit/537.36 (KHTML, like Gecko) Chrome/35.0.1916.47 Safari/537.36'}\n",
    "numero_page = 1\n",
    "liste_titre = []\n",
    "liste_date = []\n",
    "\n",
    "while day!= day_stop:\n",
    "    try:\n",
    "        day_str = day.strftime('%Y%m/%d')\n",
    "        url = \"https://articles.lefigaro.fr/\"+day+\"/\"\n",
    "        req = Request(url , headers=headers)\n",
    "        page = soup( urlopen(req).read() , \"lxml\")\n",
    "        \n",
    "        for titre in page.find('ul',{ 'class':\"list-group\"}).findAll('li',{'class':'list-group-item'}):\n",
    "            liste_titre.append(titre.getText().encode('utf-8').decode('utf-8').replace(u'\\xa0', u' ').replace(\"\\n\", \"\"))\n",
    "            liste_date.append((pd.to_datetime(day , format=\"%Y%m/%d\")).date())\n",
    "        \n",
    "        \n",
    "        day = day + timedelta(days=1)\n",
    "        print(day,\" Temps Exec°: \" ,(time.time() - start_time))\n",
    "        \n",
    "    except Exception:\n",
    "        print(Exception)\n",
    "        day = day + timedelta(days=1)"
   ]
  },
  {
   "cell_type": "code",
   "execution_count": 4,
   "metadata": {},
   "outputs": [
    {
     "data": {
      "text/plain": [
       "'202012/28'"
      ]
     },
     "execution_count": 4,
     "metadata": {},
     "output_type": "execute_result"
    }
   ],
   "source": [
    "day.strftime('%Y%m/%d')"
   ]
  },
  {
   "cell_type": "code",
   "execution_count": null,
   "metadata": {},
   "outputs": [],
   "source": []
  }
 ],
 "metadata": {
  "kernelspec": {
   "display_name": "Python 3",
   "language": "python",
   "name": "python3"
  },
  "language_info": {
   "codemirror_mode": {
    "name": "ipython",
    "version": 3
   },
   "file_extension": ".py",
   "mimetype": "text/x-python",
   "name": "python",
   "nbconvert_exporter": "python",
   "pygments_lexer": "ipython3",
   "version": "3.7.4"
  }
 },
 "nbformat": 4,
 "nbformat_minor": 4
}
