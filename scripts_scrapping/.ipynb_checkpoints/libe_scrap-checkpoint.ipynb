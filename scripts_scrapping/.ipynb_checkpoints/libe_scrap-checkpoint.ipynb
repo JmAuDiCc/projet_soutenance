{
 "cells": [
  {
   "cell_type": "code",
   "execution_count": 29,
   "metadata": {},
   "outputs": [],
   "source": [
    "from urllib.request import Request, urlopen\n",
    "import urllib\n",
    "from bs4 import BeautifulSoup as soup\n",
    "import re\n",
    "import pandas as pd\n",
    "import numpy as np\n",
    "\n",
    "from datetime import datetime,date,timedelta  \n",
    "\n",
    "import time"
   ]
  },
  {
   "cell_type": "code",
   "execution_count": null,
   "metadata": {},
   "outputs": [
    {
     "name": "stdout",
     "output_type": "stream",
     "text": [
      "2016-01-01  Temps Exec°:  0.9205760955810547\n",
      "2016-01-02  Temps Exec°:  1.9881548881530762\n",
      "2016-01-03  Temps Exec°:  4.178940534591675\n",
      "2016-01-04  Temps Exec°:  5.1009202003479\n",
      "2016-01-05  Temps Exec°:  6.600328207015991\n",
      "2016-01-06  Temps Exec°:  7.832416296005249\n",
      "2016-01-07  Temps Exec°:  8.812884330749512\n",
      "2016-01-08  Temps Exec°:  10.070921897888184\n",
      "2016-01-09  Temps Exec°:  10.533921957015991\n",
      "2016-01-10  Temps Exec°:  11.252920866012573\n",
      "2016-01-11  Temps Exec°:  12.489810705184937\n",
      "2016-01-12  Temps Exec°:  13.993268013000488\n",
      "2016-01-13  Temps Exec°:  14.930385112762451\n",
      "2016-01-14  Temps Exec°:  16.107865571975708\n",
      "2016-01-15  Temps Exec°:  17.444864988327026\n",
      "2016-01-16  Temps Exec°:  17.855957508087158\n",
      "2016-01-17  Temps Exec°:  18.594869375228882\n",
      "2016-01-18  Temps Exec°:  19.80386996269226\n",
      "2016-01-19  Temps Exec°:  20.857892751693726\n",
      "2016-01-20  Temps Exec°:  21.592873334884644\n",
      "2016-01-21  Temps Exec°:  22.604872465133667\n",
      "2016-01-22  Temps Exec°:  23.92487359046936\n",
      "2016-01-23  Temps Exec°:  24.25406813621521\n",
      "2016-01-24  Temps Exec°:  24.843018531799316\n",
      "2016-01-25  Temps Exec°:  25.735811948776245\n",
      "2016-01-26  Temps Exec°:  26.561870098114014\n",
      "2016-01-27  Temps Exec°:  29.042840480804443\n",
      "2016-01-28  Temps Exec°:  30.14828395843506\n",
      "2016-01-29  Temps Exec°:  31.483797311782837\n",
      "2016-01-30  Temps Exec°:  32.07679724693298\n",
      "2016-01-31  Temps Exec°:  32.79490041732788\n",
      "2016-02-01  Temps Exec°:  33.49077081680298\n",
      "2016-02-02  Temps Exec°:  34.79162573814392\n",
      "2016-02-03  Temps Exec°:  35.78778386116028\n",
      "2016-02-04  Temps Exec°:  36.596375942230225\n",
      "2016-02-05  Temps Exec°:  37.78880739212036\n",
      "2016-02-06  Temps Exec°:  38.14124917984009\n",
      "2016-02-07  Temps Exec°:  38.81325125694275\n",
      "2016-02-08  Temps Exec°:  39.555846214294434\n",
      "2016-02-09  Temps Exec°:  40.972574949264526\n",
      "2016-02-10  Temps Exec°:  42.489299058914185\n",
      "2016-02-11  Temps Exec°:  43.4247465133667\n",
      "2016-02-12  Temps Exec°:  45.079689502716064\n",
      "2016-02-13  Temps Exec°:  45.827861070632935\n",
      "2016-02-14  Temps Exec°:  46.97669196128845\n",
      "2016-02-15  Temps Exec°:  48.064693212509155\n",
      "2016-02-16  Temps Exec°:  49.86969351768494\n",
      "2016-02-17  Temps Exec°:  51.00969457626343\n",
      "2016-02-18  Temps Exec°:  52.024935245513916\n",
      "2016-02-19  Temps Exec°:  53.56826853752136\n",
      "2016-02-20  Temps Exec°:  54.01925539970398\n",
      "2016-02-21  Temps Exec°:  55.67367100715637\n",
      "2016-02-22  Temps Exec°:  57.78067421913147\n",
      "2016-02-23  Temps Exec°:  58.68312072753906\n",
      "2016-02-24  Temps Exec°:  62.885623931884766\n",
      "2016-02-25  Temps Exec°:  64.63087916374207\n",
      "2016-02-26  Temps Exec°:  66.74760508537292\n",
      "2016-02-27  Temps Exec°:  67.27059674263\n",
      "2016-02-28  Temps Exec°:  68.53572869300842\n",
      "2016-02-29  Temps Exec°:  69.7955813407898\n",
      "2016-03-01  Temps Exec°:  71.12556004524231\n",
      "2016-03-02  Temps Exec°:  73.77869582176208\n",
      "2016-03-03  Temps Exec°:  74.67733955383301\n",
      "2016-03-04  Temps Exec°:  75.817622423172\n",
      "2016-03-05  Temps Exec°:  76.5096230506897\n",
      "2016-03-06  Temps Exec°:  77.42346811294556\n",
      "2016-03-07  Temps Exec°:  78.76448678970337\n",
      "2016-03-08  Temps Exec°:  80.47298645973206\n",
      "2016-03-09  Temps Exec°:  81.92655348777771\n",
      "2016-03-10  Temps Exec°:  82.910817861557\n",
      "2016-03-11  Temps Exec°:  85.7104868888855\n",
      "2016-03-12  Temps Exec°:  86.28049826622009\n",
      "2016-03-13  Temps Exec°:  87.53350448608398\n",
      "2016-03-14  Temps Exec°:  88.95850658416748\n",
      "2016-03-15  Temps Exec°:  90.27781915664673\n",
      "2016-03-16  Temps Exec°:  91.68147563934326\n",
      "2016-03-17  Temps Exec°:  92.90946650505066\n",
      "2016-03-18  Temps Exec°:  94.32541012763977\n",
      "2016-03-19  Temps Exec°:  94.87117981910706\n",
      "2016-03-20  Temps Exec°:  95.57036066055298\n",
      "2016-03-21  Temps Exec°:  96.56438946723938\n",
      "2016-03-22  Temps Exec°:  98.9952404499054\n",
      "2016-03-23  Temps Exec°:  100.05458211898804\n",
      "2016-03-24  Temps Exec°:  101.15776562690735\n",
      "2016-03-25  Temps Exec°:  102.55533909797668\n",
      "2016-03-26  Temps Exec°:  102.94875884056091\n",
      "2016-03-27  Temps Exec°:  103.30876159667969\n",
      "2016-03-28  Temps Exec°:  104.26635122299194\n",
      "2016-03-29  Temps Exec°:  105.40969491004944\n",
      "2016-03-30  Temps Exec°:  106.1676025390625\n",
      "2016-03-31  Temps Exec°:  107.18830156326294\n",
      "2016-04-01  Temps Exec°:  108.4823694229126\n",
      "2016-04-02  Temps Exec°:  108.78434419631958\n",
      "2016-04-03  Temps Exec°:  110.27461075782776\n"
     ]
    }
   ],
   "source": [
    "start_time = time.time()\n",
    "\n",
    "day_stop = pd.to_datetime('01-01-2021' , format=\"%d-%m-%Y\").date()\n",
    "day = pd.to_datetime('01-01-2016' , format=\"%d-%m-%Y\").date()\n",
    "\n",
    "\n",
    "headers = {'User-Agent': 'Mozilla/5.0 (Macintosh; Intel Mac OS X 10_9_3) AppleWebKit/537.36 (KHTML, like Gecko) Chrome/35.0.1916.47 Safari/537.36'}\n",
    "liste_titre = []\n",
    "liste_date = []\n",
    "liste_date_err_500 = [] # beaucoup de pages inaccessibles er500\n",
    "\n",
    "e = False\n",
    "numero_page = 1\n",
    "\n",
    "while (day!= day_stop):\n",
    "    try:\n",
    "        day_str = day.strftime('%Y/%m/%d')\n",
    "        url = \"http://q.liberation.fr/archives/\"+day_str+\"/?page=\"+str(numero_page)\n",
    "\n",
    "\n",
    "        req = Request(url , headers=headers)\n",
    "        page = soup( urlopen(req).read() , \"lxml\")\n",
    "\n",
    "\n",
    "\n",
    "        if page.find('div',{ 'class':\"block-call-items\"}).findAll('p') :\n",
    "            #print('if: page numéro', numero_page)\n",
    "            \n",
    "            for titre in page.find('div',{ 'class':\"block-call-items\"}).findAll('p'):\n",
    "                liste_titre.append(titre.find('a').getText().encode('utf-8').decode('utf-8').replace(u'\\xa0', u' '))\n",
    "                liste_date.append(day)\n",
    "            numero_page +=1\n",
    "            \n",
    "        else:\n",
    "\n",
    "            print(day,\" Temps Exec°: \" ,(time.time() - start_time))\n",
    "            day = day + timedelta(days=1)\n",
    "            numero_page=1\n",
    "    \n",
    "    except urllib.error.HTTPError as exc:\n",
    "        if str(exc) == \"HTTP Error 500: Internal Server Error\":\n",
    "            liste_date_err_500.append(day)\n",
    "            print(day , \"Erreur500\")\n",
    "        day = day + timedelta(days=1)\n",
    "        numero_page=1"
   ]
  },
  {
   "cell_type": "code",
   "execution_count": 52,
   "metadata": {},
   "outputs": [
    {
     "data": {
      "text/plain": [
       "[datetime.date(2019, 9, 26),\n",
       " datetime.date(2019, 10, 1),\n",
       " datetime.date(2019, 10, 3)]"
      ]
     },
     "execution_count": 52,
     "metadata": {},
     "output_type": "execute_result"
    }
   ],
   "source": [
    "liste_date_err_500"
   ]
  },
  {
   "cell_type": "code",
   "execution_count": 18,
   "metadata": {},
   "outputs": [
    {
     "data": {
      "text/plain": [
       "datetime.date(2019, 9, 25)"
      ]
     },
     "execution_count": 18,
     "metadata": {},
     "output_type": "execute_result"
    }
   ],
   "source": [
    "liste_date[-1]"
   ]
  },
  {
   "cell_type": "code",
   "execution_count": 20,
   "metadata": {},
   "outputs": [],
   "source": [
    "df_lib = pd.DataFrame()\n",
    "#liste_titre = []\n",
    "#liste_titre.append(pd.to_datetime(day , format=\"%d-%m-%Y\").date())\n",
    "df_lib['titre'] = liste_titre\n",
    "df_lib['date'] = liste_date\n",
    "#df_lib.to_csv(index=False ,path_or_buf='lib_9_25_2019.csv', encoding = 'utf-8')"
   ]
  }
 ],
 "metadata": {
  "kernelspec": {
   "display_name": "Python 3",
   "language": "python",
   "name": "python3"
  },
  "language_info": {
   "codemirror_mode": {
    "name": "ipython",
    "version": 3
   },
   "file_extension": ".py",
   "mimetype": "text/x-python",
   "name": "python",
   "nbconvert_exporter": "python",
   "pygments_lexer": "ipython3",
   "version": "3.7.4"
  }
 },
 "nbformat": 4,
 "nbformat_minor": 4
}
