{
 "cells": [
  {
   "cell_type": "code",
   "execution_count": 1,
   "metadata": {},
   "outputs": [],
   "source": [
    "from urllib.request import Request, urlopen\n",
    "from bs4 import BeautifulSoup as soup\n",
    "import pandas as pd\n",
    "import numpy as np\n",
    "\n",
    "from datetime import datetime,date,timedelta  \n",
    "\n",
    "import time"
   ]
  },
  {
   "cell_type": "code",
   "execution_count": 93,
   "metadata": {},
   "outputs": [
    {
     "data": {
      "text/plain": [
       "datetime.date(2016, 1, 3)"
      ]
     },
     "execution_count": 93,
     "metadata": {},
     "output_type": "execute_result"
    }
   ],
   "source": [
    "pd.to_datetime('01-01-2016' , format=\"%d-%m-%Y\").date().strftime('%Y/%m/%d')"
   ]
  },
  {
   "cell_type": "code",
   "execution_count": null,
   "metadata": {},
   "outputs": [],
   "source": [
    "start_time = time.time()\n",
    "\n",
    "day_stop = pd.to_datetime('01-01-2021' , format=\"%d-%m-%Y\").date()\n",
    "day = pd.to_datetime('01-01-2016' , format=\"%d-%m-%Y\").date()\n",
    "\n",
    "\n",
    "headers = {'User-Agent': 'Mozilla/5.0 (Macintosh; Intel Mac OS X 10_9_3) AppleWebKit/537.36 (KHTML, like Gecko) Chrome/35.0.1916.47 Safari/537.36'}\n",
    "liste_titre = []\n",
    "liste_date = []\n",
    "\n",
    "while day!= day_stop:\n",
    "    try:\n",
    "        day_str = day.strftime('%Y%m/%d')\n",
    "        url = \"https://articles.lefigaro.fr/\"+day_str+\"/\"\n",
    "        req = Request(url , headers=headers)\n",
    "        page = soup( urlopen(req).read() , \"lxml\")\n",
    "        \n",
    "        liste_balise = page.findAll('a',{'class':'News-title News-title--small-onlymobile'})\n",
    "        for titre in liste_balise:\n",
    "            liste_titre.append(titre.get('title').strip())\n",
    "            liste_date.append(day)\n",
    "        \n",
    "        \n",
    "        \n",
    "        print(day,\" Temps Exec°: \" ,(time.time() - start_time))\n",
    "        day = day + timedelta(days=1)\n",
    "        \n",
    "    except Exception:\n",
    "        print(Exception)\n",
    "        day = day + timedelta(days=1)"
   ]
  },
  {
   "cell_type": "code",
   "execution_count": 89,
   "metadata": {},
   "outputs": [
    {
     "name": "stdout",
     "output_type": "stream",
     "text": [
      "La chanteuse Shy’m annonce sur Instagram la mort de son compagnon…\n",
      "Céline Dion annule ses concerts : les dates parisiennes seront-elles maintenues ?\n",
      "Laeticia Hallyday et Pascal Balland vont-ils adopter ensemble ?\n",
      "Patrick Bruel touché par le cancer ?\n",
      "Affaire Conclue : fatiguée, une star de l’émission révèle être en couple avec… un homme marié !\n",
      "Photos: Coronavirus : Toutes les célébrités victimes du Covid-19\n",
      "PHOTO - Aya Nakamura publie une rare une photo de sa fille Aïcha\n",
      "Vaimalama Chaves au coeur d'un clash entre Magali Berdah et Rachel Legrain-Trapani dans TPMP People !\n",
      "\"Une vision d'horreur\"... la femme du chanteur Frédéric François victime d'un horrible accident !\n",
      "Laeticia Hallyday : sa meilleure amie Hélène Darroze s’est pris une grande claque\n",
      "TPMP un invité malade et confiné : bientôt le tour des chroniqueurs ?\n",
      "Caroline Receveur triste : sa touchante déclaration à son père décédé\n",
      "Elodie Gossuin fait une “quadruple crise de nerfs” : les raisons de son craquage...\n",
      "Laeticia Hallyday en deuil : un membre de la famille Boudou emporté le cancer\n",
      "Les Mystères de l'Amour : grosse polémique après une blague sur le coronavirus\n",
      "Les Z'Amours : un candidat a harcelé sa compagne durant des mois...\n",
      "Benjamin Castaldi face à des problèmes financiers : Le chroniqueur de TPMP était \"interdit bancaire\" !\n",
      "Victor Lanoux (Louis la brocante) : son fils fait une effroyable révélation sur l'acteur trois ans après sa disparition...\n",
      "Christian Quesada : la femme à l’origine de sa chute vient de surprendre tout le monde !\n",
      "Laeticia Hallyday: Fabien Lecoeuvre assure qu'elle est une héroïne\n",
      "Julie Gayet: son hommage poignant à Tonie Marshall\n",
      "Fabienne Carat : harcelée sexuellement par un réalisateur, elle se livre pour la première fois\n",
      "MHD : Le rappeur est maintenu en détention !\n",
      "Zapping : \"C’est un discours d’un chef militaire\", un célèbre chroniqueur de C8 revient sur le discours d’Emmanuel Macron\n",
      "Photos - Sophie Marceau est en couple : nouvel amoureux pour une nouvelle vie ?\n",
      "Coronavirus : à bout, l'animatrice Laurence Boccolini règle ses comptes sur Instagram !\n",
      "The Voice : Une candidate balance : “Amel n’a pas sa place en tant que coach!\"\n",
      "\"Je ne regrette rien\" : l'ex de Lorie, Philippe Bas, se confie sur leur love story !\n",
      "Dans \"Balance Ton Post\", Cyril Hanouna, inquiet, révèle que son papa est malade...\n",
      "TPMP : Cyril Hanouna a balancé une terrible nouvelle sur Twitter à cause du coronavirus !\n"
     ]
    }
   ],
   "source": [
    "liste_titre = []\n",
    "headers = {'User-Agent': 'Mozilla/5.0 (Macintosh; Intel Mac OS X 10_9_3) AppleWebKit/537.36 (KHTML, like Gecko) Chrome/35.0.1916.47 Safari/537.36'}\n",
    "url = \"https://www.public.fr/Archives/liste/2020/3/13\"\n",
    "req = Request(url , headers=headers)\n",
    "page = soup( urlopen(req).read() , \"lxml\")\n",
    "\n",
    "liste_balise = page.findAll('a',{'class':'News-title News-title--small-onlymobile'})\n",
    "for titre in liste_balise:\n",
    "    print(titre.get('title').strip())"
   ]
  },
  {
   "cell_type": "code",
   "execution_count": 88,
   "metadata": {},
   "outputs": [
    {
     "data": {
      "text/plain": [
       "'TPMP : Cyril Hanouna a balancé une terrible nouvelle sur Twitter à cause du coronavirus !'"
      ]
     },
     "execution_count": 88,
     "metadata": {},
     "output_type": "execute_result"
    }
   ],
   "source": [
    "titre.get('title').strip()"
   ]
  },
  {
   "cell_type": "code",
   "execution_count": 32,
   "metadata": {},
   "outputs": [
    {
     "data": {
      "text/plain": [
       "bs4.element.Tag"
      ]
     },
     "execution_count": 32,
     "metadata": {},
     "output_type": "execute_result"
    }
   ],
   "source": [
    "type(liste_balise[0])"
   ]
  },
  {
   "cell_type": "code",
   "execution_count": 33,
   "metadata": {},
   "outputs": [
    {
     "data": {
      "text/plain": [
       "bs4.BeautifulSoup"
      ]
     },
     "execution_count": 33,
     "metadata": {},
     "output_type": "execute_result"
    }
   ],
   "source": [
    "type(page)"
   ]
  },
  {
   "cell_type": "code",
   "execution_count": 64,
   "metadata": {},
   "outputs": [],
   "source": [
    "import re\n",
    "re.match('.*tilte', str(liste_balise[0]))"
   ]
  },
  {
   "cell_type": "code",
   "execution_count": 81,
   "metadata": {},
   "outputs": [
    {
     "data": {
      "text/plain": [
       "'<a class=\"News-title News-title--small-onlymobile\" href=\"https://www.public.fr/News/La-chanteuse-Shy-m-annonce-sur-Instagram-la-mort-de-son-compagnon-1635820\" title=\"La chanteuse Shy’m annonce sur Instagram la mort de son compagnon… \">\\n                    La chanteuse Shy’m annonce sur Instagram la mort de son compagnon… \\n                </a>'"
      ]
     },
     "execution_count": 81,
     "metadata": {},
     "output_type": "execute_result"
    }
   ],
   "source": [
    "str(liste_balise[0])"
   ]
  },
  {
   "cell_type": "code",
   "execution_count": 63,
   "metadata": {},
   "outputs": [
    {
     "data": {
      "text/plain": [
       "<re.Match object; span=(0, 8), match='yy hello'>"
      ]
     },
     "execution_count": 63,
     "metadata": {},
     "output_type": "execute_result"
    }
   ],
   "source": [
    "re.match('.*hello', 'yy hello world')\n"
   ]
  },
  {
   "cell_type": "code",
   "execution_count": 78,
   "metadata": {},
   "outputs": [
    {
     "data": {
      "text/plain": [
       "['thedubaimall']"
      ]
     },
     "execution_count": 78,
     "metadata": {},
     "output_type": "execute_result"
    }
   ],
   "source": [
    "re.findall('(?<=title=).*$', \"www.example.title=thedubaimall\")"
   ]
  },
  {
   "cell_type": "code",
   "execution_count": 80,
   "metadata": {},
   "outputs": [
    {
     "data": {
      "text/plain": [
       "[]"
      ]
     },
     "execution_count": 80,
     "metadata": {},
     "output_type": "execute_result"
    }
   ],
   "source": [
    "re.findall('(?<=title=).*$', str(liste_balise[0]).strip())"
   ]
  }
 ],
 "metadata": {
  "kernelspec": {
   "display_name": "Python 3",
   "language": "python",
   "name": "python3"
  },
  "language_info": {
   "codemirror_mode": {
    "name": "ipython",
    "version": 3
   },
   "file_extension": ".py",
   "mimetype": "text/x-python",
   "name": "python",
   "nbconvert_exporter": "python",
   "pygments_lexer": "ipython3",
   "version": "3.7.4"
  }
 },
 "nbformat": 4,
 "nbformat_minor": 4
}
